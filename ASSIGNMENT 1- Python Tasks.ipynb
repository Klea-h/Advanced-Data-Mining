{
 "cells": [
  {
   "cell_type": "markdown",
   "id": "4d388861",
   "metadata": {},
   "source": [
    "### *ASSIGNMENT 1*"
   ]
  },
  {
   "cell_type": "markdown",
   "id": "6939e20f",
   "metadata": {},
   "source": [
    "##### 1. Create a loop that prompts the user to enter 3 different items, then appends them to new items list"
   ]
  },
  {
   "cell_type": "code",
   "execution_count": 21,
   "id": "2b0b0699",
   "metadata": {},
   "outputs": [
    {
     "name": "stdout",
     "output_type": "stream",
     "text": [
      "Please enter the 1 item: Apple\n",
      "Please enter the 2 item: Strawberry\n",
      "Please enter the 3 item: Cherry\n",
      "The items added to the list are: ['Apple', 'Strawberry', 'Cherry']\n"
     ]
    }
   ],
   "source": [
    "#Creating an empty list, where the items will be appended\n",
    "mylist=[]\n",
    "#Creating a while loop to append the items\n",
    "i=0\n",
    "while i<3:\n",
    "    item=input(f'Please enter the {i+1} item: ')\n",
    "    mylist.append(item)\n",
    "    i+=1\n",
    "print(f'The items added to the list are: {mylist}')"
   ]
  },
  {
   "cell_type": "markdown",
   "id": "e7e246f1",
   "metadata": {},
   "source": [
    "#### *2. Write a program for removing duplicates from the list, append unique values to new list*\n",
    "ex: a=[1,2,1,3,2,4,4,5]\n",
    "new_list=[1,2,3,4,5]\n"
   ]
  },
  {
   "cell_type": "code",
   "execution_count": 22,
   "id": "285375fd",
   "metadata": {},
   "outputs": [],
   "source": [
    "def unique(list1):\n",
    "    '''\n",
    "    Since sets only contain unique elements it removes the duplicates from the list\n",
    "    Then the set type is converted to list type again \n",
    "    The new list is returned as a result of the function\n",
    "    \n",
    "    '''\n",
    "    return list(set(list1))"
   ]
  },
  {
   "cell_type": "code",
   "execution_count": 23,
   "id": "df143fc6",
   "metadata": {},
   "outputs": [
    {
     "data": {
      "text/plain": [
       "[1, 2, 3, 4, 5]"
      ]
     },
     "execution_count": 23,
     "metadata": {},
     "output_type": "execute_result"
    }
   ],
   "source": [
    "#EXAMPLE\n",
    "ex_list=[1,2,1,3,2,4,4,5]\n",
    "new_list=unique(ex_list)\n",
    "new_list"
   ]
  },
  {
   "cell_type": "markdown",
   "id": "450cd438",
   "metadata": {},
   "source": [
    "#### *3. Write a Python function to print a list where the values are square of numbers between a and b.*\n",
    "ex range(10,30)>>out : 100, 121,144,169,196,225,256.........900\n"
   ]
  },
  {
   "cell_type": "code",
   "execution_count": 24,
   "id": "7923e581",
   "metadata": {},
   "outputs": [],
   "source": [
    "def square_num(low,high):\n",
    "    '''\n",
    "    Using list comprehensions to create a list quickly\n",
    "    Since range function is exclusive of the last position, in order to calculate it, the stop position is increased with 1\n",
    "    The function returns the created list of square numbers\n",
    "    '''\n",
    "    sqr_list=[num**2 for num in range(low,high+1)]\n",
    "    return sqr_list"
   ]
  },
  {
   "cell_type": "code",
   "execution_count": 25,
   "id": "ddc2c22d",
   "metadata": {},
   "outputs": [
    {
     "data": {
      "text/plain": [
       "[100,\n",
       " 121,\n",
       " 144,\n",
       " 169,\n",
       " 196,\n",
       " 225,\n",
       " 256,\n",
       " 289,\n",
       " 324,\n",
       " 361,\n",
       " 400,\n",
       " 441,\n",
       " 484,\n",
       " 529,\n",
       " 576,\n",
       " 625,\n",
       " 676,\n",
       " 729,\n",
       " 784,\n",
       " 841,\n",
       " 900]"
      ]
     },
     "execution_count": 25,
     "metadata": {},
     "output_type": "execute_result"
    }
   ],
   "source": [
    "#EXAMPLE\n",
    "square_num(10,30)"
   ]
  },
  {
   "cell_type": "markdown",
   "id": "2dc3b321",
   "metadata": {},
   "source": [
    "#### *4. Write a function where two strings are given, then remove letters from first string if they are in second string*\n",
    "ex: string1='heyhowareyou'   string2='hurray'>>>output: 'eoweo' \n",
    "\n"
   ]
  },
  {
   "cell_type": "code",
   "execution_count": 26,
   "id": "f8e634ca",
   "metadata": {},
   "outputs": [],
   "source": [
    "def str_remove(str1,str2):\n",
    "    \n",
    "    '''\n",
    "    Creating an empty string where the characters that are in the first string, but not on the second string will be saved.\n",
    "    Creating a for loop to check if the letters in the first string are also in the second string.\n",
    "    If the letter is in both strings, then that letter will not be taken in consideration.\n",
    "    Otherwise, if the letter is in the first string, but not on the second, it will be added to the string created previously.\n",
    "    In the end, the function returns the updated string .\n",
    "    '''\n",
    "    \n",
    "    mystring=''\n",
    "    for char in str1:\n",
    "        if char in str2:\n",
    "            pass\n",
    "        else:\n",
    "            mystring = mystring + char\n",
    "    return mystring"
   ]
  },
  {
   "cell_type": "code",
   "execution_count": 27,
   "id": "27706cb7",
   "metadata": {},
   "outputs": [
    {
     "data": {
      "text/plain": [
       "'eoweo'"
      ]
     },
     "execution_count": 27,
     "metadata": {},
     "output_type": "execute_result"
    }
   ],
   "source": [
    "#EXAMPLE\n",
    "mystr1='heyhowareyou' \n",
    "mystr2='hurray'\n",
    "str_remove(mystr1,mystr2)"
   ]
  }
 ],
 "metadata": {
  "kernelspec": {
   "display_name": "Python 3 (ipykernel)",
   "language": "python",
   "name": "python3"
  },
  "language_info": {
   "codemirror_mode": {
    "name": "ipython",
    "version": 3
   },
   "file_extension": ".py",
   "mimetype": "text/x-python",
   "name": "python",
   "nbconvert_exporter": "python",
   "pygments_lexer": "ipython3",
   "version": "3.9.12"
  }
 },
 "nbformat": 4,
 "nbformat_minor": 5
}
